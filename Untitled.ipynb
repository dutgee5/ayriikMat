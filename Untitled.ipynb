{
 "cells": [
  {
   "cell_type": "code",
   "execution_count": 4,
   "id": "5f609c8b",
   "metadata": {},
   "outputs": [
    {
     "name": "stdout",
     "output_type": "stream",
     "text": [
      "False\n"
     ]
    }
   ],
   "source": [
    "A = {2,4,6,8,10,12}\n",
    "B={2,6,10}\n",
    "print(A.issubset(B))#issubset alt kümesini bulmaya yarar"
   ]
  },
  {
   "cell_type": "code",
   "execution_count": null,
   "id": "ef553934",
   "metadata": {},
   "outputs": [],
   "source": [
    "\n"
   ]
  },
  {
   "cell_type": "code",
   "execution_count": 9,
   "id": "45ad17ae",
   "metadata": {},
   "outputs": [
    {
     "name": "stdout",
     "output_type": "stream",
     "text": [
      "{4, 6, 8, 10, 12}\n"
     ]
    }
   ],
   "source": [
    "A = {2,4,6,8,10,12}\n",
    "B={1,2,3,5,7,9,11}\n",
    "#print(A.union(B))#union birleştirme\n",
    "#print(A.intersection(B))#kesişim A & B şeklinde de hesaplaanır.\n",
    "#print(A.difference(B))#FARK"
   ]
  },
  {
   "cell_type": "code",
   "execution_count": null,
   "id": "0bd1183a",
   "metadata": {},
   "outputs": [],
   "source": []
  },
  {
   "cell_type": "code",
   "execution_count": null,
   "id": "f8ce4141",
   "metadata": {},
   "outputs": [],
   "source": []
  }
 ],
 "metadata": {
  "kernelspec": {
   "display_name": "Python 3 (ipykernel)",
   "language": "python",
   "name": "python3"
  },
  "language_info": {
   "codemirror_mode": {
    "name": "ipython",
    "version": 3
   },
   "file_extension": ".py",
   "mimetype": "text/x-python",
   "name": "python",
   "nbconvert_exporter": "python",
   "pygments_lexer": "ipython3",
   "version": "3.9.7"
  }
 },
 "nbformat": 4,
 "nbformat_minor": 5
}
