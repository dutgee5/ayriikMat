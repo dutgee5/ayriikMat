{
 "cells": [
  {
   "cell_type": "code",
   "execution_count": 2,
   "id": "62647b66",
   "metadata": {},
   "outputs": [],
   "source": [
    "U={\"a\",\"b\",\"c\",\"d\",\"e\",\"f\",\"g\",\"h\",\"i\",\"j\",\"k\",\"l\",\"m\",\"n\",\"o\",\"p\",\"q\",\"r\",\"s\",\"t\",\"u\",\"v\",\"w\",\"x\",\"y\",\"z\"}\n",
    "A={\"a\",\"b\",\"c\",\"d\",\"e\",\"f\",\"g\",\"h\"}\n",
    "B={\"f\",\"g\",\"h\",\"i\",\"j\",\"k\"}\n",
    "C={\"x\",\"y\",\"z\"}"
   ]
  },
  {
   "cell_type": "code",
   "execution_count": 16,
   "id": "556981e5",
   "metadata": {},
   "outputs": [
    {
     "name": "stdout",
     "output_type": "stream",
     "text": [
      "{'b', 'g', 'c', 'f', 'i', 'j', 'd', 'e', 'k', 'a', 'h'}\n"
     ]
    }
   ],
   "source": [
    "print(A.union(B))"
   ]
  },
  {
   "cell_type": "code",
   "execution_count": 4,
   "id": "af1fc68e",
   "metadata": {},
   "outputs": [
    {
     "name": "stdout",
     "output_type": "stream",
     "text": [
      "set()\n"
     ]
    }
   ],
   "source": [
    "print(A.intersection(C))"
   ]
  },
  {
   "cell_type": "code",
   "execution_count": 5,
   "id": "fbdd7806",
   "metadata": {},
   "outputs": [
    {
     "name": "stdout",
     "output_type": "stream",
     "text": [
      "{'y', 'z', 'x'}\n"
     ]
    }
   ],
   "source": [
    "print(C.difference(A))"
   ]
  },
  {
   "cell_type": "code",
   "execution_count": 22,
   "id": "770418d5",
   "metadata": {},
   "outputs": [
    {
     "name": "stdout",
     "output_type": "stream",
     "text": [
      "{'t', 'q', 'u', 'o', 'b', 'w', 'l', 'v', 'm', 'r', 'p', 's', 'd', 'e', 'n', 'a', 'c'}\n"
     ]
    }
   ],
   "source": [
    "print(U-(B|C))"
   ]
  },
  {
   "cell_type": "code",
   "execution_count": 17,
   "id": "c3bcbc90",
   "metadata": {},
   "outputs": [
    {
     "name": "stdout",
     "output_type": "stream",
     "text": [
      "{'t', 'w', 'l', 'r', 's', 'y', 'x', 'b', 'v', 'm', 'd', 'n', 'q', 'u', 'o', 'z', 'p', 'a', 'c', 'e'}\n"
     ]
    }
   ],
   "source": [
    "print(U-B)"
   ]
  },
  {
   "cell_type": "code",
   "execution_count": null,
   "id": "0402179b",
   "metadata": {},
   "outputs": [],
   "source": []
  }
 ],
 "metadata": {
  "kernelspec": {
   "display_name": "Python 3 (ipykernel)",
   "language": "python",
   "name": "python3"
  },
  "language_info": {
   "codemirror_mode": {
    "name": "ipython",
    "version": 3
   },
   "file_extension": ".py",
   "mimetype": "text/x-python",
   "name": "python",
   "nbconvert_exporter": "python",
   "pygments_lexer": "ipython3",
   "version": "3.9.7"
  }
 },
 "nbformat": 4,
 "nbformat_minor": 5
}
